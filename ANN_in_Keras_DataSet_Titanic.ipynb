{
 "cells": [
  {
   "cell_type": "code",
   "execution_count": 1,
   "id": "f234fb95",
   "metadata": {},
   "outputs": [],
   "source": [
    "import pandas as pd\n",
    "import numpy as np \n",
    "from sklearn.preprocessing import LabelEncoder, MinMaxScaler\n",
    "from sklearn.model_selection import train_test_split\n",
    "from sklearn.metrics import accuracy_score, log_loss\n",
    "from matplotlib import pyplot as plt\n",
    "from tensorflow.keras.models import Sequential\n",
    "from tensorflow.keras.layers import Dense "
   ]
  },
  {
   "cell_type": "markdown",
   "id": "11f7c2bc",
   "metadata": {},
   "source": [
    "## Importo il DataSet"
   ]
  },
  {
   "cell_type": "code",
   "execution_count": 25,
   "id": "94f85834",
   "metadata": {},
   "outputs": [
    {
     "data": {
      "text/html": [
       "<div>\n",
       "<style scoped>\n",
       "    .dataframe tbody tr th:only-of-type {\n",
       "        vertical-align: middle;\n",
       "    }\n",
       "\n",
       "    .dataframe tbody tr th {\n",
       "        vertical-align: top;\n",
       "    }\n",
       "\n",
       "    .dataframe thead th {\n",
       "        text-align: right;\n",
       "    }\n",
       "</style>\n",
       "<table border=\"1\" class=\"dataframe\">\n",
       "  <thead>\n",
       "    <tr style=\"text-align: right;\">\n",
       "      <th></th>\n",
       "      <th>Survived</th>\n",
       "      <th>Pclass</th>\n",
       "      <th>Name</th>\n",
       "      <th>Sex</th>\n",
       "      <th>Age</th>\n",
       "      <th>Siblings/Spouses Aboard</th>\n",
       "      <th>Parents/Children Aboard</th>\n",
       "      <th>Fare</th>\n",
       "    </tr>\n",
       "  </thead>\n",
       "  <tbody>\n",
       "    <tr>\n",
       "      <th>0</th>\n",
       "      <td>0</td>\n",
       "      <td>3</td>\n",
       "      <td>Mr. Owen Harris Braund</td>\n",
       "      <td>male</td>\n",
       "      <td>22.0</td>\n",
       "      <td>1</td>\n",
       "      <td>0</td>\n",
       "      <td>7.2500</td>\n",
       "    </tr>\n",
       "    <tr>\n",
       "      <th>1</th>\n",
       "      <td>1</td>\n",
       "      <td>1</td>\n",
       "      <td>Mrs. John Bradley (Florence Briggs Thayer) Cum...</td>\n",
       "      <td>female</td>\n",
       "      <td>38.0</td>\n",
       "      <td>1</td>\n",
       "      <td>0</td>\n",
       "      <td>71.2833</td>\n",
       "    </tr>\n",
       "    <tr>\n",
       "      <th>2</th>\n",
       "      <td>1</td>\n",
       "      <td>3</td>\n",
       "      <td>Miss. Laina Heikkinen</td>\n",
       "      <td>female</td>\n",
       "      <td>26.0</td>\n",
       "      <td>0</td>\n",
       "      <td>0</td>\n",
       "      <td>7.9250</td>\n",
       "    </tr>\n",
       "    <tr>\n",
       "      <th>3</th>\n",
       "      <td>1</td>\n",
       "      <td>1</td>\n",
       "      <td>Mrs. Jacques Heath (Lily May Peel) Futrelle</td>\n",
       "      <td>female</td>\n",
       "      <td>35.0</td>\n",
       "      <td>1</td>\n",
       "      <td>0</td>\n",
       "      <td>53.1000</td>\n",
       "    </tr>\n",
       "    <tr>\n",
       "      <th>4</th>\n",
       "      <td>0</td>\n",
       "      <td>3</td>\n",
       "      <td>Mr. William Henry Allen</td>\n",
       "      <td>male</td>\n",
       "      <td>35.0</td>\n",
       "      <td>0</td>\n",
       "      <td>0</td>\n",
       "      <td>8.0500</td>\n",
       "    </tr>\n",
       "  </tbody>\n",
       "</table>\n",
       "</div>"
      ],
      "text/plain": [
       "   Survived  Pclass                                               Name  \\\n",
       "0         0       3                             Mr. Owen Harris Braund   \n",
       "1         1       1  Mrs. John Bradley (Florence Briggs Thayer) Cum...   \n",
       "2         1       3                              Miss. Laina Heikkinen   \n",
       "3         1       1        Mrs. Jacques Heath (Lily May Peel) Futrelle   \n",
       "4         0       3                            Mr. William Henry Allen   \n",
       "\n",
       "      Sex   Age  Siblings/Spouses Aboard  Parents/Children Aboard     Fare  \n",
       "0    male  22.0                        1                        0   7.2500  \n",
       "1  female  38.0                        1                        0  71.2833  \n",
       "2  female  26.0                        0                        0   7.9250  \n",
       "3  female  35.0                        1                        0  53.1000  \n",
       "4    male  35.0                        0                        0   8.0500  "
      ]
     },
     "execution_count": 25,
     "metadata": {},
     "output_type": "execute_result"
    }
   ],
   "source": [
    "data = pd.read_csv(r'C:\\Users\\claud\\Desktop\\Python\\MASTER CLASS MACHINE LEARNING\\moduli\\data\\titanic.csv')\n",
    "data.head(5)"
   ]
  },
  {
   "cell_type": "markdown",
   "id": "cd4bbabf",
   "metadata": {},
   "source": [
    "### Verifichiamo se sono presenti valori nulli"
   ]
  },
  {
   "cell_type": "code",
   "execution_count": 3,
   "id": "6ed75622",
   "metadata": {},
   "outputs": [
    {
     "data": {
      "text/plain": [
       "False"
      ]
     },
     "execution_count": 3,
     "metadata": {},
     "output_type": "execute_result"
    }
   ],
   "source": [
    "data.isnull().values.any()"
   ]
  },
  {
   "cell_type": "markdown",
   "id": "cc2dcc97",
   "metadata": {},
   "source": [
    "### Trasformo il dataSet in un array"
   ]
  },
  {
   "cell_type": "code",
   "execution_count": 4,
   "id": "b9d9b28f",
   "metadata": {},
   "outputs": [],
   "source": [
    "data = data.values"
   ]
  },
  {
   "cell_type": "code",
   "execution_count": 5,
   "id": "01d8bce9",
   "metadata": {},
   "outputs": [],
   "source": [
    "x = data[:,1:]\n",
    "y = data[:, 0]"
   ]
  },
  {
   "cell_type": "code",
   "execution_count": 6,
   "id": "a367dcc7",
   "metadata": {},
   "outputs": [
    {
     "name": "stdout",
     "output_type": "stream",
     "text": [
      "[2 'Miss. Simonne Marie Anne Andree Laroche' 'female' 3.0 1 2 41.5792]\n",
      "\n",
      "1\n"
     ]
    }
   ],
   "source": [
    "print(x[42])\n",
    "print('')\n",
    "print(y[42])"
   ]
  },
  {
   "cell_type": "markdown",
   "id": "dfc7b4a0",
   "metadata": {},
   "source": [
    "### Per compatibilta' del formato che si aspetta keras essendo il nostro un vettore di etichette ma noi serve un vettore di vettori "
   ]
  },
  {
   "cell_type": "code",
   "execution_count": 7,
   "id": "a52160ef",
   "metadata": {},
   "outputs": [
    {
     "name": "stdout",
     "output_type": "stream",
     "text": [
      "[1]\n"
     ]
    }
   ],
   "source": [
    "y = np.reshape(y,(len(y), 1))\n",
    "\n",
    "print(y[42])"
   ]
  },
  {
   "cell_type": "markdown",
   "id": "d2815a1d",
   "metadata": {},
   "source": [
    "###  Trasformo i dati sul sesso dei passeggeri in numeri dove 1 sara maschio e 0 femmina"
   ]
  },
  {
   "cell_type": "code",
   "execution_count": 8,
   "id": "8ca22528",
   "metadata": {},
   "outputs": [
    {
     "name": "stdout",
     "output_type": "stream",
     "text": [
      "[2 'Miss. Simonne Marie Anne Andree Laroche' 'female' 3.0 1 2 41.5792] [2]\n",
      "0\n"
     ]
    }
   ],
   "source": [
    "print(x[42],[2])\n",
    "\n",
    "label_encoder_sex = LabelEncoder()\n",
    "x[:,2] = label_encoder_sex.fit_transform(x[:,2])\n",
    "\n",
    "print(x[42][2])\n"
   ]
  },
  {
   "cell_type": "markdown",
   "id": "63843c58",
   "metadata": {},
   "source": [
    "### Estraggo dalla colonna nome dei passeggeri il quale estrarremo solo le informazioni che riguardano il loro stato civile per vedere se sono presenti delle correlazioni con il fatto che si siano salvati o meno \n",
    "\n"
   ]
  },
  {
   "cell_type": "code",
   "execution_count": 9,
   "id": "215c565a",
   "metadata": {},
   "outputs": [],
   "source": [
    "stato_civile_valido = ['Miss.', 'Master.', 'Mr.', 'Mrs.']\n",
    "\n",
    "a= []\n",
    "\n",
    "for i in x[:, 1]:\n",
    "    found_match = False\n",
    "    for s in stato_civile_valido:\n",
    "        if s in i:\n",
    "            a.append(s)\n",
    "            found_match = True\n",
    "            break\n",
    "    if not found_match:\n",
    "        a.append('NaN')"
   ]
  },
  {
   "cell_type": "code",
   "execution_count": 10,
   "id": "e0e2e0f1",
   "metadata": {},
   "outputs": [
    {
     "name": "stdout",
     "output_type": "stream",
     "text": [
      "['Mr.' 'Mrs.' 'Miss.' 'Mrs.' 'Mr.' 'Mr.' 'Mr.' 'Master.' 'Mrs.' 'Mrs.'\n",
      " 'Miss.' 'Miss.' 'Mr.' 'Mr.' 'Miss.' 'Mrs.' 'Master.' 'Mr.' 'Mrs.' 'Mrs.'\n",
      " 'Mr.' 'Mr.' 'Miss.' 'Mr.' 'Miss.' 'Mrs.' 'Mr.' 'Mr.' 'Miss.' 'Mr.' 'NaN'\n",
      " 'Mrs.' 'Miss.' 'Mr.' 'Mr.' 'Mr.' 'Mr.' 'Mr.' 'Miss.' 'Miss.' 'Mrs.'\n",
      " 'Mrs.' 'Miss.' 'Miss.' 'Mr.' 'Mr.' 'Miss.' 'Mr.' 'Mrs.' 'Master.' 'Mr.'\n",
      " 'Mrs.' 'Mrs.' 'Mr.' 'Mr.' 'Miss.' 'Mr.' 'Miss.' 'Master.' 'Mr.' 'Miss.'\n",
      " 'Mr.' 'Master.' 'Mr.' 'Master.' 'Mrs.' 'Mr.' 'Miss.' 'Mr.' 'Mr.' 'Miss.'\n",
      " 'Mr.' 'Mr.' 'Mr.' 'Mr.' 'Mr.' 'Mr.' 'Master.' 'Miss.' 'Mr.' 'Mr.' 'Miss.'\n",
      " 'Mr.' 'Miss.' 'Mrs.' 'Mr.' 'Mr.' 'Miss.' 'Mr.' 'Mr.' 'Mr.' 'Mr.' 'Mr.'\n",
      " 'Mr.' 'Mr.' 'Mr.' 'Mr.' 'Mrs.' 'Mr.' 'Miss.' 'Mr.' 'Mr.' 'Mr.' 'Mr.'\n",
      " 'Mr.' 'Miss.' 'Mr.' 'Mr.' 'Miss.' 'Mr.' 'Miss.' 'Mr.' 'Miss.' 'Miss.'\n",
      " 'Mr.' 'Mr.' 'Mr.' 'Mr.' 'Miss.' 'Mr.' 'Mr.' 'Mr.' 'Miss.' 'Mr.' 'Master.'\n",
      " 'Mr.' 'Mr.' 'Miss.' 'Mr.' 'Mr.' 'Mr.' 'Mrs.' 'Mrs.' 'Mr.' 'Mr.' 'Miss.'\n",
      " 'Mr.' 'Mr.' 'Mr.' 'Mrs.' 'Miss.' 'Mrs.' 'Mr.' 'Mr.' 'Mr.' 'Mr.' 'Miss.'\n",
      " 'Mr.' 'NaN' 'NaN' 'Mrs.' 'Mr.' 'Mr.' 'Mr.' 'Mr.' 'Miss.' 'Mr.' 'Mr.'\n",
      " 'Master.' 'Mr.' 'Mrs.' 'Mr.' 'Mr.' 'Master.' 'Master.' 'Mrs.' 'Mrs.'\n",
      " 'Mr.' 'Mr.' 'Mr.' 'Master.' 'Miss.' 'Mr.' 'Mr.' 'Mr.' 'Master.' 'Miss.'\n",
      " 'Mr.' 'Mr.' 'Miss.' 'Mr.' 'Master.' 'Master.' 'Miss.' 'Mr.' 'Mrs.' 'Mr.'\n",
      " 'Mr.' 'Mr.' 'Mrs.' 'Mr.' 'Miss.' 'Master.' 'Mrs.' 'Miss.' 'Mr.' 'Mr.'\n",
      " 'Miss.' 'Miss.' 'Mr.' 'Mr.' 'Mr.' 'Mr.' 'Mr.' 'Miss.' 'Mr.' 'Mr.' 'Miss.'\n",
      " 'Mr.' 'Mr.' 'Miss.' 'Mr.' 'Mr.' 'Mr.' 'Miss.' 'Miss.' 'Mr.' 'Miss.' 'Mr.'\n",
      " 'Mr.' 'Mr.' 'Mr.' 'Mr.' 'Mr.' 'Mr.' 'Mr.' 'Mr.' 'Mr.' 'Miss.' 'Mrs.'\n",
      " 'Mr.' 'Mr.' 'Miss.' 'Mr.' 'Miss.' 'Mr.' 'Miss.' 'Mr.' 'Mr.' 'Miss.'\n",
      " 'Miss.' 'Mr.' 'Mr.' 'Mr.' 'NaN' 'Miss.' 'Mrs.' 'Mr.' 'NaN' 'Mr.' 'Mrs.'\n",
      " 'Mr.' 'Mr.' 'Mrs.' 'Mrs.' 'Mrs.' 'Miss.' 'Miss.' 'Mrs.' 'Master.' 'Mr.'\n",
      " 'Mr.' 'Miss.' 'Mr.' 'Mr.' 'Mr.' 'Mrs.' 'Miss.' 'Mr.' 'Mr.' 'Mrs.' 'Mr.'\n",
      " 'Miss.' 'Miss.' 'Miss.' 'Mr.' 'Master.' 'Mrs.' 'Mr.' 'Mr.' 'Mr.' 'Mr.'\n",
      " 'Mr.' 'Mr.' 'Mr.' 'Mr.' 'Mr.' 'Miss.' 'Miss.' 'Mrs.' 'Mr.' 'Miss.' 'Mr.'\n",
      " 'Mr.' 'Mr.' 'Miss.' 'Mr.' 'Mrs.' 'Miss.' 'Mr.' 'Mr.' 'Miss.' 'Mr.'\n",
      " 'Master.' 'Miss.' 'Mrs.' 'Mr.' 'Miss.' 'Miss.' 'Miss.' 'Mrs.' 'Mr.' 'Mr.'\n",
      " 'Miss.' 'Mrs.' 'NaN' 'Miss.' 'Mrs.' 'Mr.' 'Mr.' 'Miss.' 'Mrs.' 'Mr.'\n",
      " 'Miss.' 'Mr.' 'Mrs.' 'Mrs.' 'Miss.' 'Miss.' 'Mr.' 'Mr.' 'Mr.' 'Mrs.'\n",
      " 'Mr.' 'Mr.' 'Miss.' 'Mr.' 'Mr.' 'Master.' 'Miss.' 'Mr.' 'Mr.' 'Mr.'\n",
      " 'Miss.' 'Miss.' 'Mrs.' 'Master.' 'Mr.' 'Mr.' 'Mr.' 'Mr.' 'Mr.' 'Mr.'\n",
      " 'Mr.' 'Miss.' 'Miss.' 'Miss.' 'Miss.' 'Mr.' 'Mr.' 'Mrs.' 'Mr.' 'Mr.'\n",
      " 'Mr.' 'Mrs.' 'Mrs.' 'Miss.' 'NaN' 'Mr.' 'Mr.' 'Mr.' 'Mr.' 'Miss.' 'Mrs.'\n",
      " 'Miss.' 'Mr.' 'Mr.' 'Mr.' 'Miss.' 'Miss.' 'Mr.' 'Mrs.' 'Mr.' 'Mr.'\n",
      " 'Master.' 'Miss.' 'Mr.' 'Miss.' 'Mr.' 'Mr.' 'Mr.' 'Miss.' 'Mrs.' 'Mr.'\n",
      " 'Miss.' 'Mr.' 'NaN' 'Mrs.' 'Mr.' 'Mr.' 'Miss.' 'Mr.' 'Miss.' 'Mr.' 'Mr.'\n",
      " 'Master.' 'Mr.' 'Miss.' 'Mr.' 'Mr.' 'Miss.' 'Mr.' 'Mr.' 'Mrs.' 'Mrs.'\n",
      " 'Miss.' 'Mr.' 'Miss.' 'Mr.' 'Mr.' 'Mrs.' 'Mr.' 'Mr.' 'Mrs.' 'Miss.' 'Mr.'\n",
      " 'Mr.' 'Mr.' 'Mrs.' 'Mrs.' 'Mr.' 'Mr.' 'Miss.' 'Miss.' 'Mrs.' 'Mr.' 'Mr.'\n",
      " 'Mrs.' 'Mr.' 'Mr.' 'NaN' 'Mr.' 'Master.' 'Miss.' 'Mr.' 'Miss.' 'NaN'\n",
      " 'Mr.' 'Mr.' 'Mr.' 'Mr.' 'Mr.' 'Mr.' 'Mr.' 'Mrs.' 'Miss.' 'Mr.' 'Mr.'\n",
      " 'Mr.' 'Mr.' 'Mr.' 'Mr.' 'Mr.' 'Mr.' 'Mr.' 'Mr.' 'Miss.' 'Mr.' 'Mr.'\n",
      " 'Mrs.' 'Mrs.' 'Miss.' 'Mr.' 'Mr.' 'Mr.' 'Mr.' 'Miss.' 'Master.' 'Mr.'\n",
      " 'Mr.' 'Mrs.' 'Mr.' 'Miss.' 'Mrs.' 'Mr.' 'Mr.' 'Master.' 'Mr.' 'Mr.' 'Mr.'\n",
      " 'Mr.' 'Mr.' 'Mr.' 'Miss.' 'Mr.' 'Mrs.' 'Mr.' 'Mr.' 'Miss.' 'Miss.'\n",
      " 'Miss.' 'Miss.' 'Mr.' 'Mrs.' 'Mr.' 'Mr.' 'Mr.' 'Mr.' 'Mr.' 'Mr.' 'Mrs.'\n",
      " 'Mr.' 'Mr.' 'Mrs.' 'Mr.' 'Mrs.' 'Mr.' 'Miss.' 'Mr.' 'Mr.' 'Mrs.' 'Mr.'\n",
      " 'Mr.' 'Miss.' 'Mr.' 'Mr.' 'Mr.' 'Miss.' 'Mr.' 'Mr.' 'Mrs.' 'Miss.'\n",
      " 'Miss.' 'NaN' 'Miss.' 'Mr.' 'Miss.' 'Miss.' 'Miss.' 'Miss.' 'Mr.' 'Mr.'\n",
      " 'Mr.' 'Mrs.' 'Mr.' 'Mr.' 'Master.' 'Mr.' 'Mr.' 'Mr.' 'Mr.' 'Miss.' 'Mr.'\n",
      " 'NaN' 'Mr.' 'Mrs.' 'Mrs.' 'Mr.' 'Mr.' 'Mr.' 'Mr.' 'Miss.' 'Mr.' 'Mr.'\n",
      " 'Mrs.' 'Mr.' 'Mr.' 'Mr.' 'Mrs.' 'Mr.' 'Miss.' 'Mr.' 'Mr.' 'Miss.' 'Mrs.'\n",
      " 'Mrs.' 'Mr.' 'Miss.' 'Mrs.' 'Mr.' 'Mr.' 'Mr.' 'Miss.' 'Mr.' 'Mr.' 'Mr.'\n",
      " 'Mr.' 'Mr.' 'Mrs.' 'Mr.' 'Miss.' 'Mr.' 'Mr.' 'Miss.' 'Mr.' 'Mr.' 'NaN'\n",
      " 'Mrs.' 'Mr.' 'Mr.' 'Mr.' 'Mr.' 'Mr.' 'Mr.' 'Mr.' 'Mrs.' 'Miss.' 'Mrs.'\n",
      " 'Mr.' 'Miss.' 'Mr.' 'Mr.' 'Miss.' 'Mr.' 'Mrs.' 'Miss.' 'Mr.' 'Mr.' 'Mr.'\n",
      " 'Mr.' 'Mr.' 'Mr.' 'Mr.' 'NaN' 'Miss.' 'Mr.' 'Mr.' 'Mr.' 'Mr.' 'NaN' 'Mr.'\n",
      " 'Miss.' 'Miss.' 'Mr.' 'Mr.' 'Mrs.' 'Mr.' 'Mr.' 'NaN' 'Miss.' 'Mr.'\n",
      " 'Miss.' 'Mr.' 'Mr.' 'NaN' 'Mr.' 'Miss.' 'Mr.' 'Miss.' 'Mr.' 'Miss.'\n",
      " 'Miss.' 'Mr.' 'Mr.' 'Mrs.' 'Mr.' 'Mr.' 'NaN' 'Mr.' 'Mr.' 'Mr.' 'Mr.'\n",
      " 'Mr.' 'Mr.' 'Mr.' 'Mr.' 'Mrs.' 'Mrs.' 'Mr.' 'Mr.' 'Mr.' 'Mr.' 'Mr.' 'Mr.'\n",
      " 'Miss.' 'Mrs.' 'Mr.' 'Miss.' 'Mr.' 'Mr.' 'Mr.' 'Mr.' 'Mr.' 'Mr.' 'Mr.'\n",
      " 'Mr.' 'Miss.' 'Mr.' 'Miss.' 'Mr.' 'Mr.' 'NaN' 'Mr.' 'Mr.' 'Miss.' 'Mr.'\n",
      " 'Mr.' 'Mrs.' 'Mr.' 'Miss.' 'Mr.' 'Mr.' 'Mr.' 'Mrs.' 'Mr.' 'Miss.'\n",
      " 'Master.' 'NaN' 'Mr.' 'Mr.' 'Mr.' 'Mr.' 'Mr.' 'Miss.' 'Miss.' 'Mr.'\n",
      " 'Miss.' 'Mr.' 'Mr.' 'Mr.' 'Mr.' 'Mr.' 'Mrs.' 'Miss.' 'Mr.' 'Miss.'\n",
      " 'Miss.' 'Mr.' 'Mr.' 'Mr.' 'Mr.' 'Mr.' 'Mrs.' 'Mr.' 'Mr.' 'Mr.' 'Mr.'\n",
      " 'Mr.' 'Miss.' 'Mr.' 'Mr.' 'NaN' 'Mr.' 'Miss.' 'Mr.' 'Mr.' 'Miss.'\n",
      " 'Master.' 'Mr.' 'Mr.' 'Mrs.' 'Master.' 'Mr.' 'Mr.' 'Mr.' 'NaN' 'Mr.'\n",
      " 'Mr.' 'Mr.' 'Mrs.' 'Mr.' 'Mrs.' 'NaN' 'Miss.' 'Mr.' 'Mr.' 'Mr.' 'Mr.'\n",
      " 'Mrs.' 'Mr.' 'Mrs.' 'Mr.' 'Mr.' 'Miss.' 'Mr.' 'Mrs.' 'Miss.' 'Mrs.' 'Mr.'\n",
      " 'Mr.' 'Mr.' 'Mr.' 'Miss.' 'Master.' 'Master.' 'Mr.' 'Mr.' 'Mr.' 'Miss.'\n",
      " 'Mr.' 'Mr.' 'Mr.' 'NaN' 'Mrs.' 'Mr.' 'Mrs.' 'Mr.' 'Mrs.' 'Master.'\n",
      " 'Master.' 'Mr.' 'Mr.' 'Mr.' 'Miss.' 'Mr.' 'Mrs.' 'Mr.' 'Mr.' 'Mr.'\n",
      " 'Miss.' 'Mr.' 'Mr.' 'Miss.' 'Mr.' 'Mr.' 'Master.' 'Mrs.' 'Mr.' 'NaN'\n",
      " 'Mrs.' 'Master.' 'Mr.' 'Mr.' 'Master.' 'Mr.' 'Mrs.' 'Mrs.' 'Master.'\n",
      " 'Mr.' 'Mr.' 'Mr.' 'Miss.' 'Mr.' 'Mr.' 'Mr.' 'Mr.' 'Mr.' 'Mr.' 'Miss.'\n",
      " 'Mr.' 'Mr.' 'Mr.' 'Mr.' 'Mr.' 'NaN' 'Mrs.' 'Master.' 'Mr.' 'Miss.'\n",
      " 'Miss.' 'Mrs.' 'Mrs.' 'Mrs.' 'Mr.' 'Mrs.' 'Mr.' 'Mr.' 'Mr.' 'Mrs.'\n",
      " 'Miss.' 'Mr.' 'Mrs.' 'Miss.' 'Mr.' 'Mr.' 'Master.' 'Mr.' 'Mrs.' 'Mr.'\n",
      " 'Mr.' 'Mrs.' 'Miss.' 'Mr.' 'Mr.' 'Mr.' 'Mrs.' 'Mrs.' 'Mr.' 'Miss.' 'Mr.'\n",
      " 'Mr.' 'Mrs.' 'NaN' 'Miss.' 'Miss.' 'Mr.' 'Mr.']\n"
     ]
    }
   ],
   "source": [
    "a = np.array(a)\n",
    "print(a)\n",
    "a = a.reshape((887, ))"
   ]
  },
  {
   "cell_type": "code",
   "execution_count": 11,
   "id": "b930da64",
   "metadata": {},
   "outputs": [
    {
     "name": "stdout",
     "output_type": "stream",
     "text": [
      "(887,)\n"
     ]
    }
   ],
   "source": [
    "print(a.shape)"
   ]
  },
  {
   "cell_type": "code",
   "execution_count": 12,
   "id": "9ebb25bd",
   "metadata": {},
   "outputs": [
    {
     "name": "stdout",
     "output_type": "stream",
     "text": [
      "Mr.\n"
     ]
    }
   ],
   "source": [
    "x[:, 1] = a\n",
    "print(x[5,1])"
   ]
  },
  {
   "cell_type": "markdown",
   "id": "df614dce",
   "metadata": {},
   "source": [
    "### Eliminiamo le righe che hanno il file mancante (NaN) "
   ]
  },
  {
   "cell_type": "code",
   "execution_count": 13,
   "id": "aeae9166",
   "metadata": {},
   "outputs": [],
   "source": [
    "x = pd.DataFrame(x)\n",
    "\n",
    "# Rimozione delle righe contenenti NaN\n",
    "x = x.dropna()\n",
    "\n",
    "# Convertire il DataFrame risultante in un array\n",
    "x = x.values\n",
    "\n"
   ]
  },
  {
   "cell_type": "markdown",
   "id": "4935b4a7",
   "metadata": {},
   "source": [
    "### Trasformiamo gli stati civili dei passeggeri in numeri "
   ]
  },
  {
   "cell_type": "code",
   "execution_count": 14,
   "id": "57989d94",
   "metadata": {},
   "outputs": [
    {
     "name": "stdout",
     "output_type": "stream",
     "text": [
      "2\n"
     ]
    }
   ],
   "source": [
    "label_encoder_Name = LabelEncoder()\n",
    "x[:,1] = label_encoder_Name.fit_transform(x[:,1])\n",
    "\n",
    "print(x[5,1])"
   ]
  },
  {
   "cell_type": "markdown",
   "id": "dbff8b40",
   "metadata": {},
   "source": [
    "### Presentazione dell array "
   ]
  },
  {
   "cell_type": "code",
   "execution_count": 16,
   "id": "6ed35195",
   "metadata": {},
   "outputs": [
    {
     "name": "stdout",
     "output_type": "stream",
     "text": [
      "[[2 3 0 55.0 0 0 16.0]\n",
      " [3 0 1 2.0 4 1 29.125]\n",
      " [2 2 1 23.0 0 0 13.0]\n",
      " [3 3 0 31.0 1 0 18.0]]\n"
     ]
    }
   ],
   "source": [
    "print(x[15:19])"
   ]
  },
  {
   "cell_type": "markdown",
   "id": "f99ba9c2",
   "metadata": {},
   "source": [
    "### Creiamo un dataset di test e uno di train "
   ]
  },
  {
   "cell_type": "code",
   "execution_count": 17,
   "id": "95170627",
   "metadata": {},
   "outputs": [],
   "source": [
    "x = np.array(x, dtype='float32')\n",
    "y = np.array(y, dtype='float32')\n",
    "\n",
    "x_train, x_test, y_train, y_test = train_test_split(x, y, test_size= 0.2)"
   ]
  },
  {
   "cell_type": "code",
   "execution_count": 18,
   "id": "ccd9d5d7",
   "metadata": {},
   "outputs": [
    {
     "name": "stdout",
     "output_type": "stream",
     "text": [
      "(709, 7)\n",
      "(709, 1)\n",
      "---\n",
      "(178, 7)\n",
      "(178, 1)\n"
     ]
    }
   ],
   "source": [
    "print(x_train.shape)\n",
    "print(y_train.shape)\n",
    "print('---')\n",
    "print(x_test.shape)\n",
    "print(y_test.shape)"
   ]
  },
  {
   "cell_type": "markdown",
   "id": "5378f2b9",
   "metadata": {},
   "source": [
    "### Normalizzazione dei dati in modo tale che il prezzo dei biglietti non influisca con le altre features "
   ]
  },
  {
   "cell_type": "code",
   "execution_count": 19,
   "id": "804ac2bc",
   "metadata": {},
   "outputs": [],
   "source": [
    "sc = MinMaxScaler()\n",
    "sc.fit(x_train)\n",
    "\n",
    "x_train_norm = sc.transform(x_train)\n",
    "x_test_norm = sc.transform(x_test)"
   ]
  },
  {
   "cell_type": "markdown",
   "id": "01570be4",
   "metadata": {},
   "source": [
    "### Creazione modello di RNN"
   ]
  },
  {
   "cell_type": "code",
   "execution_count": 20,
   "id": "8ed0b37f",
   "metadata": {},
   "outputs": [
    {
     "name": "stdout",
     "output_type": "stream",
     "text": [
      "Model: \"sequential\"\n",
      "_________________________________________________________________\n",
      " Layer (type)                Output Shape              Param #   \n",
      "=================================================================\n",
      " dense (Dense)               (None, 10)                80        \n",
      "                                                                 \n",
      " dense_1 (Dense)             (None, 8)                 88        \n",
      "                                                                 \n",
      " dense_2 (Dense)             (None, 6)                 54        \n",
      "                                                                 \n",
      " dense_3 (Dense)             (None, 1)                 6         \n",
      "                                                                 \n",
      "=================================================================\n",
      "Total params: 228 (912.00 Byte)\n",
      "Trainable params: 228 (912.00 Byte)\n",
      "Non-trainable params: 0 (0.00 Byte)\n",
      "_________________________________________________________________\n"
     ]
    }
   ],
   "source": [
    "classifier = Sequential()\n",
    "classifier.add(Dense(units=10, activation ='relu', input_dim= x.shape[1]))\n",
    "classifier.add(Dense(units=8, activation ='relu'))\n",
    "classifier.add(Dense(units=6, activation ='relu'))\n",
    "classifier.add(Dense(units=1, use_bias=False, activation= 'sigmoid'))\n",
    "classifier.compile(optimizer='adam', loss= 'binary_crossentropy', metrics= ['accuracy'])\n",
    "classifier.summary()"
   ]
  },
  {
   "cell_type": "markdown",
   "id": "25c7002d",
   "metadata": {},
   "source": [
    "### Addestramento modello"
   ]
  },
  {
   "cell_type": "code",
   "execution_count": 21,
   "id": "44863ba8",
   "metadata": {},
   "outputs": [],
   "source": [
    "training_history = classifier.fit(\n",
    "    x_train_norm,\n",
    "    y_train,\n",
    "    validation_data=(x_test_norm, y_test),\n",
    "    batch_size = 150,\n",
    "    epochs = 250,\n",
    "    verbose = 0\n",
    ")"
   ]
  },
  {
   "cell_type": "markdown",
   "id": "11d89a68",
   "metadata": {},
   "source": [
    "### Grafici con Loss , Val_Loss, Acc e Vall_acc"
   ]
  },
  {
   "cell_type": "code",
   "execution_count": 22,
   "id": "8080229a",
   "metadata": {},
   "outputs": [
    {
     "data": {
      "image/png": "[encoded data removed]",
      "text/plain": [
       "<Figure size 640x480 with 1 Axes>"
      ]
     },
     "metadata": {},
     "output_type": "display_data"
    },
    {
     "data": {
      "image/png": "[encoded data removed]",
      "text/plain": [
       "<Figure size 640x480 with 1 Axes>"
      ]
     },
     "metadata": {},
     "output_type": "display_data"
    }
   ],
   "source": [
    "plt.title('Loss')\n",
    "plt.plot(training_history.history['loss'], label='loss')\n",
    "plt.plot(training_history.history['val_loss'], label='val. loss')\n",
    "plt.legend()\n",
    "\n",
    "plt.show()\n",
    "\n",
    "# accuratezza\n",
    "plt.title('Accuracy')\n",
    "plt.plot(training_history.history['accuracy'], label='accuracy')\n",
    "plt.plot(training_history.history['val_accuracy'], label='val. accuracy')\n",
    "plt.legend()\n",
    "\n",
    "plt.show()"
   ]
  },
  {
   "cell_type": "markdown",
   "id": "a72bdfa2",
   "metadata": {},
   "source": [
    "### Predizioni con Accuratezza del modello "
   ]
  },
  {
   "cell_type": "code",
   "execution_count": 23,
   "id": "792040f0",
   "metadata": {},
   "outputs": [
    {
     "name": "stdout",
     "output_type": "stream",
     "text": [
      "6/6 [==============================] - 0s 1ms/step\n"
     ]
    }
   ],
   "source": [
    "predictions = classifier.predict(x_test_norm)\n",
    "predictions = [0 if p < 0.5 else 1 for p in predictions]"
   ]
  },
  {
   "cell_type": "code",
   "execution_count": 24,
   "id": "c58adf7b",
   "metadata": {},
   "outputs": [
    {
     "name": "stdout",
     "output_type": "stream",
     "text": [
      "Accuratezza modello: 83.14606741573034 %\n"
     ]
    }
   ],
   "source": [
    "print('Accuratezza modello:', accuracy_score(y_test, predictions) * 100, '%')"
   ]
  },
  {
   "cell_type": "code",
   "execution_count": null,
   "id": "e6580363",
   "metadata": {},
   "outputs": [],
   "source": []
  }
 ],
 "metadata": {
  "kernelspec": {
   "display_name": "Python 3 (ipykernel)",
   "language": "python",
   "name": "python3"
  },
  "language_info": {
   "codemirror_mode": {
    "name": "ipython",
    "version": 3
   },
   "file_extension": ".py",
   "mimetype": "text/x-python",
   "name": "python",
   "nbconvert_exporter": "python",
   "pygments_lexer": "ipython3",
   "version": "3.11.4"
  }
 },
 "nbformat": 4,
 "nbformat_minor": 5
}
